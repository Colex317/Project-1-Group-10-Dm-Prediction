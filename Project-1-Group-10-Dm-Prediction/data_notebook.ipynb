{
 "cells": [
  {
   "cell_type": "markdown",
   "metadata": {},
   "source": [
    "# Project 1 - Exploring Potential Contributing Factors to Diabetes\n",
    "\n",
    "This jupyter notebook contains the cleaning, analysis, and visualizations of the Diabetes Prediction Dataset on kaggle, by Mohammed Mustafa: \n",
    "https://www.kaggle.com/datasets/iammustafatz/diabetes-prediction-dataset\n",
    "\n",
    "## Contents\n",
    "\n",
    "- **Importing and Cleaning the Data**\n",
    "    - Importing the csv\n",
    "    - Replacing 1/0 Values with True/False Values\n",
    "    - Cleaning the smoking_history column\n",
    "    - Dropping n/a values and checking value counts\n",
    "    - Duplicates\n",
    "    - Viewing the clean dataset\n",
    "\n",
    "- **Analysis**\n",
    "    - Summary Table 1 - Age, BMI, HbA1c Level, and Blood Glucose Level Among Diabetics and Non-Diabetics\n",
    "    - Summary Table 2 - Diabetics with Hypertension, Heart Diease, Both, or Neither\n",
    "    - Summary Table 3 - Diabetics that are at least 45 Years Old, 25+ BMI, Both, or Neither\n",
    "    - Summary Table 4 - Diabetic Patients by Age Group\n",
    "    - Summary Table 5 - Mean values for table attributes by gender\n",
    "\n",
    "- **Visualizations**\n",
    "    1. Diabetic Patients by BMI and Age\n",
    "    2. Diabetic Patients by Heart Disease and Hypertension\n",
    "    3. Diabetes by Age and BMI\n",
    "    4. Age by Diabetes Status\n",
    "    5. BMI by Diabetes Status\n",
    "    6. HbA1c Level by Diabetes Status\n",
    "    7. Blood Glucose Level by Diabetes Status"
   ]
  },
  {
   "cell_type": "markdown",
   "metadata": {},
   "source": [
    "## Importing and Cleaning the Data\n",
    "\n",
    "The first step was to import the dataframe from the csv, and save it to a new variable. Some of the columns in this dateset had 0 and 1 values, so these were replaced with True/False values."
   ]
  },
  {
   "cell_type": "code",
   "execution_count": 1,
   "metadata": {},
   "outputs": [
    {
     "data": {
      "text/html": [
       "<div>\n",
       "<style scoped>\n",
       "    .dataframe tbody tr th:only-of-type {\n",
       "        vertical-align: middle;\n",
       "    }\n",
       "\n",
       "    .dataframe tbody tr th {\n",
       "        vertical-align: top;\n",
       "    }\n",
       "\n",
       "    .dataframe thead th {\n",
       "        text-align: right;\n",
       "    }\n",
       "</style>\n",
       "<table border=\"1\" class=\"dataframe\">\n",
       "  <thead>\n",
       "    <tr style=\"text-align: right;\">\n",
       "      <th></th>\n",
       "      <th>gender</th>\n",
       "      <th>age</th>\n",
       "      <th>hypertension</th>\n",
       "      <th>heart_disease</th>\n",
       "      <th>smoking_history</th>\n",
       "      <th>bmi</th>\n",
       "      <th>HbA1c_level</th>\n",
       "      <th>blood_glucose_level</th>\n",
       "      <th>diabetes</th>\n",
       "    </tr>\n",
       "  </thead>\n",
       "  <tbody>\n",
       "    <tr>\n",
       "      <th>0</th>\n",
       "      <td>Female</td>\n",
       "      <td>80.0</td>\n",
       "      <td>0</td>\n",
       "      <td>1</td>\n",
       "      <td>never</td>\n",
       "      <td>25.19</td>\n",
       "      <td>6.6</td>\n",
       "      <td>140</td>\n",
       "      <td>0</td>\n",
       "    </tr>\n",
       "    <tr>\n",
       "      <th>1</th>\n",
       "      <td>Female</td>\n",
       "      <td>54.0</td>\n",
       "      <td>0</td>\n",
       "      <td>0</td>\n",
       "      <td>No Info</td>\n",
       "      <td>27.32</td>\n",
       "      <td>6.6</td>\n",
       "      <td>80</td>\n",
       "      <td>0</td>\n",
       "    </tr>\n",
       "    <tr>\n",
       "      <th>2</th>\n",
       "      <td>Male</td>\n",
       "      <td>28.0</td>\n",
       "      <td>0</td>\n",
       "      <td>0</td>\n",
       "      <td>never</td>\n",
       "      <td>27.32</td>\n",
       "      <td>5.7</td>\n",
       "      <td>158</td>\n",
       "      <td>0</td>\n",
       "    </tr>\n",
       "    <tr>\n",
       "      <th>3</th>\n",
       "      <td>Female</td>\n",
       "      <td>36.0</td>\n",
       "      <td>0</td>\n",
       "      <td>0</td>\n",
       "      <td>current</td>\n",
       "      <td>23.45</td>\n",
       "      <td>5.0</td>\n",
       "      <td>155</td>\n",
       "      <td>0</td>\n",
       "    </tr>\n",
       "    <tr>\n",
       "      <th>4</th>\n",
       "      <td>Male</td>\n",
       "      <td>76.0</td>\n",
       "      <td>1</td>\n",
       "      <td>1</td>\n",
       "      <td>current</td>\n",
       "      <td>20.14</td>\n",
       "      <td>4.8</td>\n",
       "      <td>155</td>\n",
       "      <td>0</td>\n",
       "    </tr>\n",
       "  </tbody>\n",
       "</table>\n",
       "</div>"
      ],
      "text/plain": [
       "   gender   age  hypertension  heart_disease smoking_history    bmi  \\\n",
       "0  Female  80.0             0              1           never  25.19   \n",
       "1  Female  54.0             0              0         No Info  27.32   \n",
       "2    Male  28.0             0              0           never  27.32   \n",
       "3  Female  36.0             0              0         current  23.45   \n",
       "4    Male  76.0             1              1         current  20.14   \n",
       "\n",
       "   HbA1c_level  blood_glucose_level  diabetes  \n",
       "0          6.6                  140         0  \n",
       "1          6.6                   80         0  \n",
       "2          5.7                  158         0  \n",
       "3          5.0                  155         0  \n",
       "4          4.8                  155         0  "
      ]
     },
     "execution_count": 1,
     "metadata": {},
     "output_type": "execute_result"
    }
   ],
   "source": [
    "import pandas as pd\n",
    "import matplotlib.pyplot as plt\n",
    "\n",
    "df = pd.read_csv(\"Resources/diabetes_prediction_dataset.csv\")\n",
    "df.head()"
   ]
  },
  {
   "cell_type": "markdown",
   "metadata": {},
   "source": [
    "The hypertension, heart_disease, and diabetes columns all had ones and zeros, indicating the presence or absence of these conditions. To make these columns easier to understand, the values were changed to True/False, where True indicates the presence of a condition, and False indicates a lack of that condition."
   ]
  },
  {
   "cell_type": "code",
   "execution_count": 2,
   "metadata": {},
   "outputs": [
    {
     "data": {
      "text/html": [
       "<div>\n",
       "<style scoped>\n",
       "    .dataframe tbody tr th:only-of-type {\n",
       "        vertical-align: middle;\n",
       "    }\n",
       "\n",
       "    .dataframe tbody tr th {\n",
       "        vertical-align: top;\n",
       "    }\n",
       "\n",
       "    .dataframe thead th {\n",
       "        text-align: right;\n",
       "    }\n",
       "</style>\n",
       "<table border=\"1\" class=\"dataframe\">\n",
       "  <thead>\n",
       "    <tr style=\"text-align: right;\">\n",
       "      <th></th>\n",
       "      <th>gender</th>\n",
       "      <th>age</th>\n",
       "      <th>hypertension</th>\n",
       "      <th>heart_disease</th>\n",
       "      <th>smoking_history</th>\n",
       "      <th>bmi</th>\n",
       "      <th>HbA1c_level</th>\n",
       "      <th>blood_glucose_level</th>\n",
       "      <th>diabetes</th>\n",
       "    </tr>\n",
       "  </thead>\n",
       "  <tbody>\n",
       "    <tr>\n",
       "      <th>0</th>\n",
       "      <td>Female</td>\n",
       "      <td>80.0</td>\n",
       "      <td>False</td>\n",
       "      <td>True</td>\n",
       "      <td>never</td>\n",
       "      <td>25.19</td>\n",
       "      <td>6.6</td>\n",
       "      <td>140</td>\n",
       "      <td>False</td>\n",
       "    </tr>\n",
       "    <tr>\n",
       "      <th>1</th>\n",
       "      <td>Female</td>\n",
       "      <td>54.0</td>\n",
       "      <td>False</td>\n",
       "      <td>False</td>\n",
       "      <td>No Info</td>\n",
       "      <td>27.32</td>\n",
       "      <td>6.6</td>\n",
       "      <td>80</td>\n",
       "      <td>False</td>\n",
       "    </tr>\n",
       "    <tr>\n",
       "      <th>2</th>\n",
       "      <td>Male</td>\n",
       "      <td>28.0</td>\n",
       "      <td>False</td>\n",
       "      <td>False</td>\n",
       "      <td>never</td>\n",
       "      <td>27.32</td>\n",
       "      <td>5.7</td>\n",
       "      <td>158</td>\n",
       "      <td>False</td>\n",
       "    </tr>\n",
       "    <tr>\n",
       "      <th>3</th>\n",
       "      <td>Female</td>\n",
       "      <td>36.0</td>\n",
       "      <td>False</td>\n",
       "      <td>False</td>\n",
       "      <td>current</td>\n",
       "      <td>23.45</td>\n",
       "      <td>5.0</td>\n",
       "      <td>155</td>\n",
       "      <td>False</td>\n",
       "    </tr>\n",
       "    <tr>\n",
       "      <th>4</th>\n",
       "      <td>Male</td>\n",
       "      <td>76.0</td>\n",
       "      <td>True</td>\n",
       "      <td>True</td>\n",
       "      <td>current</td>\n",
       "      <td>20.14</td>\n",
       "      <td>4.8</td>\n",
       "      <td>155</td>\n",
       "      <td>False</td>\n",
       "    </tr>\n",
       "    <tr>\n",
       "      <th>...</th>\n",
       "      <td>...</td>\n",
       "      <td>...</td>\n",
       "      <td>...</td>\n",
       "      <td>...</td>\n",
       "      <td>...</td>\n",
       "      <td>...</td>\n",
       "      <td>...</td>\n",
       "      <td>...</td>\n",
       "      <td>...</td>\n",
       "    </tr>\n",
       "    <tr>\n",
       "      <th>99995</th>\n",
       "      <td>Female</td>\n",
       "      <td>80.0</td>\n",
       "      <td>False</td>\n",
       "      <td>False</td>\n",
       "      <td>No Info</td>\n",
       "      <td>27.32</td>\n",
       "      <td>6.2</td>\n",
       "      <td>90</td>\n",
       "      <td>False</td>\n",
       "    </tr>\n",
       "    <tr>\n",
       "      <th>99996</th>\n",
       "      <td>Female</td>\n",
       "      <td>2.0</td>\n",
       "      <td>False</td>\n",
       "      <td>False</td>\n",
       "      <td>No Info</td>\n",
       "      <td>17.37</td>\n",
       "      <td>6.5</td>\n",
       "      <td>100</td>\n",
       "      <td>False</td>\n",
       "    </tr>\n",
       "    <tr>\n",
       "      <th>99997</th>\n",
       "      <td>Male</td>\n",
       "      <td>66.0</td>\n",
       "      <td>False</td>\n",
       "      <td>False</td>\n",
       "      <td>former</td>\n",
       "      <td>27.83</td>\n",
       "      <td>5.7</td>\n",
       "      <td>155</td>\n",
       "      <td>False</td>\n",
       "    </tr>\n",
       "    <tr>\n",
       "      <th>99998</th>\n",
       "      <td>Female</td>\n",
       "      <td>24.0</td>\n",
       "      <td>False</td>\n",
       "      <td>False</td>\n",
       "      <td>never</td>\n",
       "      <td>35.42</td>\n",
       "      <td>4.0</td>\n",
       "      <td>100</td>\n",
       "      <td>False</td>\n",
       "    </tr>\n",
       "    <tr>\n",
       "      <th>99999</th>\n",
       "      <td>Female</td>\n",
       "      <td>57.0</td>\n",
       "      <td>False</td>\n",
       "      <td>False</td>\n",
       "      <td>current</td>\n",
       "      <td>22.43</td>\n",
       "      <td>6.6</td>\n",
       "      <td>90</td>\n",
       "      <td>False</td>\n",
       "    </tr>\n",
       "  </tbody>\n",
       "</table>\n",
       "<p>100000 rows × 9 columns</p>\n",
       "</div>"
      ],
      "text/plain": [
       "       gender   age  hypertension  heart_disease smoking_history    bmi  \\\n",
       "0      Female  80.0         False           True           never  25.19   \n",
       "1      Female  54.0         False          False         No Info  27.32   \n",
       "2        Male  28.0         False          False           never  27.32   \n",
       "3      Female  36.0         False          False         current  23.45   \n",
       "4        Male  76.0          True           True         current  20.14   \n",
       "...       ...   ...           ...            ...             ...    ...   \n",
       "99995  Female  80.0         False          False         No Info  27.32   \n",
       "99996  Female   2.0         False          False         No Info  17.37   \n",
       "99997    Male  66.0         False          False          former  27.83   \n",
       "99998  Female  24.0         False          False           never  35.42   \n",
       "99999  Female  57.0         False          False         current  22.43   \n",
       "\n",
       "       HbA1c_level  blood_glucose_level  diabetes  \n",
       "0              6.6                  140     False  \n",
       "1              6.6                   80     False  \n",
       "2              5.7                  158     False  \n",
       "3              5.0                  155     False  \n",
       "4              4.8                  155     False  \n",
       "...            ...                  ...       ...  \n",
       "99995          6.2                   90     False  \n",
       "99996          6.5                  100     False  \n",
       "99997          5.7                  155     False  \n",
       "99998          4.0                  100     False  \n",
       "99999          6.6                   90     False  \n",
       "\n",
       "[100000 rows x 9 columns]"
      ]
     },
     "execution_count": 2,
     "metadata": {},
     "output_type": "execute_result"
    }
   ],
   "source": [
    "# creating a new variable for the clean dataframe\n",
    "clean_df = df\n",
    "\n",
    "# converting hypertension, heart_disease, and diabetes columns to boolean values\n",
    "# people either have them, or they don't\n",
    "clean_df[\"hypertension\"] = clean_df[\"hypertension\"].replace({0: False, 1: True})\n",
    "clean_df[\"heart_disease\"] = clean_df[\"heart_disease\"].replace({0: False, 1: True})\n",
    "clean_df[\"diabetes\"] = clean_df[\"diabetes\"].replace({0: False, 1: True})\n",
    "\n",
    "clean_df"
   ]
  },
  {
   "cell_type": "markdown",
   "metadata": {},
   "source": [
    "The relevant columns are now set to boolean values. It's time to take a closer look at the values for each column."
   ]
  },
  {
   "cell_type": "markdown",
   "metadata": {},
   "source": [
    "Let's look at the value counts for the smoking_history column."
   ]
  },
  {
   "cell_type": "code",
   "execution_count": 3,
   "metadata": {},
   "outputs": [
    {
     "data": {
      "text/plain": [
       "smoking_history\n",
       "No Info        35816\n",
       "never          35095\n",
       "former          9352\n",
       "current         9286\n",
       "not current     6447\n",
       "ever            4004\n",
       "Name: count, dtype: int64"
      ]
     },
     "execution_count": 3,
     "metadata": {},
     "output_type": "execute_result"
    }
   ],
   "source": [
    "clean_df[\"smoking_history\"].value_counts()"
   ]
  },
  {
   "cell_type": "markdown",
   "metadata": {},
   "source": [
    "### About the smoking_history column\n",
    "\n",
    "- In this column, some patients have been labeled as \"ever\". While this could be seen as a mistyping of \"never\", this cannot be confirmed. Because these rows are less than 5% of the dataset, they will be removed.\n",
    "\n",
    "- We initially looked to see if the \"no info\" category needed to be removed. However, we decided not to do this, as that category makes up for approximately 30% of the data.\n",
    "\n",
    "- It is odd that 15 patients under the age of 5 are currently smoking, and that 61 patients under 5 have smoked in the past. Because this cannot be verified, we decided to limit the scope of our study to adults 21 and older. This will allow us to better determine the contributing factors for diabetes."
   ]
  },
  {
   "cell_type": "code",
   "execution_count": 4,
   "metadata": {},
   "outputs": [],
   "source": [
    "# removing rows where smoking history is \"ever\"\n",
    "clean_df = clean_df[clean_df[\"smoking_history\"] != \"ever\"]\n",
    "\n",
    "# limiting the scope of the study to adults over 21\n",
    "clean_df = clean_df[clean_df[\"age\"] > 21]"
   ]
  },
  {
   "cell_type": "markdown",
   "metadata": {},
   "source": [
    "Let's drop the n/a values, as well as duplicate rows, and check the values for all of the categorical and boolean columns."
   ]
  },
  {
   "cell_type": "code",
   "execution_count": 5,
   "metadata": {},
   "outputs": [
    {
     "name": "stdout",
     "output_type": "stream",
     "text": [
      "gender\n",
      "Female    44929\n",
      "Male      29039\n",
      "Other        10\n",
      "Name: count, dtype: int64\n",
      "hypertension\n",
      "False    66934\n",
      "True      7044\n",
      "Name: count, dtype: int64\n",
      "heart_disease\n",
      "False    70356\n",
      "True      3622\n",
      "Name: count, dtype: int64\n",
      "smoking_history\n",
      "never          29411\n",
      "No Info        21018\n",
      "former          9196\n",
      "current         8725\n",
      "not current     5628\n",
      "Name: count, dtype: int64\n",
      "diabetes\n",
      "False    66065\n",
      "True      7913\n",
      "Name: count, dtype: int64\n"
     ]
    }
   ],
   "source": [
    "# dropping na values\n",
    "clean_df = clean_df.dropna()\n",
    "\n",
    "clean_df.drop_duplicates\n",
    "\n",
    "list = [\"gender\", \"hypertension\", \"heart_disease\", \"smoking_history\", \"diabetes\"]\n",
    "for x in list:\n",
    "    print(clean_df[x].value_counts())"
   ]
  },
  {
   "cell_type": "markdown",
   "metadata": {},
   "source": [
    "This is the cleaned dataset in its current form:"
   ]
  },
  {
   "cell_type": "code",
   "execution_count": 6,
   "metadata": {},
   "outputs": [
    {
     "data": {
      "text/plain": [
       "gender                 73978\n",
       "age                    73978\n",
       "hypertension           73978\n",
       "heart_disease          73978\n",
       "smoking_history        73978\n",
       "bmi                    73978\n",
       "HbA1c_level            73978\n",
       "blood_glucose_level    73978\n",
       "diabetes               73978\n",
       "dtype: int64"
      ]
     },
     "execution_count": 6,
     "metadata": {},
     "output_type": "execute_result"
    }
   ],
   "source": [
    "# checking remaining rows\n",
    "clean_df.count()"
   ]
  },
  {
   "cell_type": "code",
   "execution_count": 7,
   "metadata": {},
   "outputs": [
    {
     "data": {
      "text/html": [
       "<div>\n",
       "<style scoped>\n",
       "    .dataframe tbody tr th:only-of-type {\n",
       "        vertical-align: middle;\n",
       "    }\n",
       "\n",
       "    .dataframe tbody tr th {\n",
       "        vertical-align: top;\n",
       "    }\n",
       "\n",
       "    .dataframe thead th {\n",
       "        text-align: right;\n",
       "    }\n",
       "</style>\n",
       "<table border=\"1\" class=\"dataframe\">\n",
       "  <thead>\n",
       "    <tr style=\"text-align: right;\">\n",
       "      <th></th>\n",
       "      <th>gender</th>\n",
       "      <th>age</th>\n",
       "      <th>hypertension</th>\n",
       "      <th>heart_disease</th>\n",
       "      <th>smoking_history</th>\n",
       "      <th>bmi</th>\n",
       "      <th>HbA1c_level</th>\n",
       "      <th>blood_glucose_level</th>\n",
       "      <th>diabetes</th>\n",
       "    </tr>\n",
       "  </thead>\n",
       "  <tbody>\n",
       "    <tr>\n",
       "      <th>0</th>\n",
       "      <td>Female</td>\n",
       "      <td>80.0</td>\n",
       "      <td>False</td>\n",
       "      <td>True</td>\n",
       "      <td>never</td>\n",
       "      <td>25.19</td>\n",
       "      <td>6.6</td>\n",
       "      <td>140</td>\n",
       "      <td>False</td>\n",
       "    </tr>\n",
       "    <tr>\n",
       "      <th>1</th>\n",
       "      <td>Female</td>\n",
       "      <td>54.0</td>\n",
       "      <td>False</td>\n",
       "      <td>False</td>\n",
       "      <td>No Info</td>\n",
       "      <td>27.32</td>\n",
       "      <td>6.6</td>\n",
       "      <td>80</td>\n",
       "      <td>False</td>\n",
       "    </tr>\n",
       "    <tr>\n",
       "      <th>2</th>\n",
       "      <td>Male</td>\n",
       "      <td>28.0</td>\n",
       "      <td>False</td>\n",
       "      <td>False</td>\n",
       "      <td>never</td>\n",
       "      <td>27.32</td>\n",
       "      <td>5.7</td>\n",
       "      <td>158</td>\n",
       "      <td>False</td>\n",
       "    </tr>\n",
       "    <tr>\n",
       "      <th>3</th>\n",
       "      <td>Female</td>\n",
       "      <td>36.0</td>\n",
       "      <td>False</td>\n",
       "      <td>False</td>\n",
       "      <td>current</td>\n",
       "      <td>23.45</td>\n",
       "      <td>5.0</td>\n",
       "      <td>155</td>\n",
       "      <td>False</td>\n",
       "    </tr>\n",
       "    <tr>\n",
       "      <th>4</th>\n",
       "      <td>Male</td>\n",
       "      <td>76.0</td>\n",
       "      <td>True</td>\n",
       "      <td>True</td>\n",
       "      <td>current</td>\n",
       "      <td>20.14</td>\n",
       "      <td>4.8</td>\n",
       "      <td>155</td>\n",
       "      <td>False</td>\n",
       "    </tr>\n",
       "    <tr>\n",
       "      <th>...</th>\n",
       "      <td>...</td>\n",
       "      <td>...</td>\n",
       "      <td>...</td>\n",
       "      <td>...</td>\n",
       "      <td>...</td>\n",
       "      <td>...</td>\n",
       "      <td>...</td>\n",
       "      <td>...</td>\n",
       "      <td>...</td>\n",
       "    </tr>\n",
       "    <tr>\n",
       "      <th>99994</th>\n",
       "      <td>Female</td>\n",
       "      <td>36.0</td>\n",
       "      <td>False</td>\n",
       "      <td>False</td>\n",
       "      <td>No Info</td>\n",
       "      <td>24.60</td>\n",
       "      <td>4.8</td>\n",
       "      <td>145</td>\n",
       "      <td>False</td>\n",
       "    </tr>\n",
       "    <tr>\n",
       "      <th>99995</th>\n",
       "      <td>Female</td>\n",
       "      <td>80.0</td>\n",
       "      <td>False</td>\n",
       "      <td>False</td>\n",
       "      <td>No Info</td>\n",
       "      <td>27.32</td>\n",
       "      <td>6.2</td>\n",
       "      <td>90</td>\n",
       "      <td>False</td>\n",
       "    </tr>\n",
       "    <tr>\n",
       "      <th>99997</th>\n",
       "      <td>Male</td>\n",
       "      <td>66.0</td>\n",
       "      <td>False</td>\n",
       "      <td>False</td>\n",
       "      <td>former</td>\n",
       "      <td>27.83</td>\n",
       "      <td>5.7</td>\n",
       "      <td>155</td>\n",
       "      <td>False</td>\n",
       "    </tr>\n",
       "    <tr>\n",
       "      <th>99998</th>\n",
       "      <td>Female</td>\n",
       "      <td>24.0</td>\n",
       "      <td>False</td>\n",
       "      <td>False</td>\n",
       "      <td>never</td>\n",
       "      <td>35.42</td>\n",
       "      <td>4.0</td>\n",
       "      <td>100</td>\n",
       "      <td>False</td>\n",
       "    </tr>\n",
       "    <tr>\n",
       "      <th>99999</th>\n",
       "      <td>Female</td>\n",
       "      <td>57.0</td>\n",
       "      <td>False</td>\n",
       "      <td>False</td>\n",
       "      <td>current</td>\n",
       "      <td>22.43</td>\n",
       "      <td>6.6</td>\n",
       "      <td>90</td>\n",
       "      <td>False</td>\n",
       "    </tr>\n",
       "  </tbody>\n",
       "</table>\n",
       "<p>73978 rows × 9 columns</p>\n",
       "</div>"
      ],
      "text/plain": [
       "       gender   age  hypertension  heart_disease smoking_history    bmi  \\\n",
       "0      Female  80.0         False           True           never  25.19   \n",
       "1      Female  54.0         False          False         No Info  27.32   \n",
       "2        Male  28.0         False          False           never  27.32   \n",
       "3      Female  36.0         False          False         current  23.45   \n",
       "4        Male  76.0          True           True         current  20.14   \n",
       "...       ...   ...           ...            ...             ...    ...   \n",
       "99994  Female  36.0         False          False         No Info  24.60   \n",
       "99995  Female  80.0         False          False         No Info  27.32   \n",
       "99997    Male  66.0         False          False          former  27.83   \n",
       "99998  Female  24.0         False          False           never  35.42   \n",
       "99999  Female  57.0         False          False         current  22.43   \n",
       "\n",
       "       HbA1c_level  blood_glucose_level  diabetes  \n",
       "0              6.6                  140     False  \n",
       "1              6.6                   80     False  \n",
       "2              5.7                  158     False  \n",
       "3              5.0                  155     False  \n",
       "4              4.8                  155     False  \n",
       "...            ...                  ...       ...  \n",
       "99994          4.8                  145     False  \n",
       "99995          6.2                   90     False  \n",
       "99997          5.7                  155     False  \n",
       "99998          4.0                  100     False  \n",
       "99999          6.6                   90     False  \n",
       "\n",
       "[73978 rows x 9 columns]"
      ]
     },
     "execution_count": 7,
     "metadata": {},
     "output_type": "execute_result"
    }
   ],
   "source": [
    "# viewing the current clean_df\n",
    "clean_df"
   ]
  },
  {
   "cell_type": "markdown",
   "metadata": {},
   "source": [
    "# Analysis - Summary Tables\n",
    "\n",
    "Summary tables help give information at an overview. The first table shows summary statistics compared between patients with and without diabetes.\n",
    "\n",
    "## Summary Table 1\n",
    "\n",
    "### Age, BMI, HbA1c Level, and Blood Glucose Level Among Diabetics and Non-Diabetics\n"
   ]
  },
  {
   "cell_type": "code",
   "execution_count": 8,
   "metadata": {},
   "outputs": [
    {
     "data": {
      "text/html": [
       "<div>\n",
       "<style scoped>\n",
       "    .dataframe tbody tr th:only-of-type {\n",
       "        vertical-align: middle;\n",
       "    }\n",
       "\n",
       "    .dataframe tbody tr th {\n",
       "        vertical-align: top;\n",
       "    }\n",
       "\n",
       "    .dataframe thead th {\n",
       "        text-align: right;\n",
       "    }\n",
       "</style>\n",
       "<table border=\"1\" class=\"dataframe\">\n",
       "  <thead>\n",
       "    <tr style=\"text-align: right;\">\n",
       "      <th></th>\n",
       "      <th>diabetes</th>\n",
       "      <th>False</th>\n",
       "      <th>True</th>\n",
       "    </tr>\n",
       "  </thead>\n",
       "  <tbody>\n",
       "    <tr>\n",
       "      <th rowspan=\"3\" valign=\"top\">age</th>\n",
       "      <th>mean</th>\n",
       "      <td>49.431424</td>\n",
       "      <td>61.704790</td>\n",
       "    </tr>\n",
       "    <tr>\n",
       "      <th>median</th>\n",
       "      <td>48.000000</td>\n",
       "      <td>63.000000</td>\n",
       "    </tr>\n",
       "    <tr>\n",
       "      <th>std</th>\n",
       "      <td>16.871571</td>\n",
       "      <td>13.548421</td>\n",
       "    </tr>\n",
       "    <tr>\n",
       "      <th rowspan=\"3\" valign=\"top\">bmi</th>\n",
       "      <th>mean</th>\n",
       "      <td>28.390095</td>\n",
       "      <td>32.118938</td>\n",
       "    </tr>\n",
       "    <tr>\n",
       "      <th>median</th>\n",
       "      <td>27.320000</td>\n",
       "      <td>30.060000</td>\n",
       "    </tr>\n",
       "    <tr>\n",
       "      <th>std</th>\n",
       "      <td>5.720954</td>\n",
       "      <td>7.537902</td>\n",
       "    </tr>\n",
       "    <tr>\n",
       "      <th rowspan=\"3\" valign=\"top\">HbA1c_level</th>\n",
       "      <th>mean</th>\n",
       "      <td>5.395046</td>\n",
       "      <td>6.933148</td>\n",
       "    </tr>\n",
       "    <tr>\n",
       "      <th>median</th>\n",
       "      <td>5.800000</td>\n",
       "      <td>6.600000</td>\n",
       "    </tr>\n",
       "    <tr>\n",
       "      <th>std</th>\n",
       "      <td>0.971706</td>\n",
       "      <td>1.076005</td>\n",
       "    </tr>\n",
       "    <tr>\n",
       "      <th rowspan=\"3\" valign=\"top\">blood_glucose_level</th>\n",
       "      <th>mean</th>\n",
       "      <td>132.902596</td>\n",
       "      <td>194.387464</td>\n",
       "    </tr>\n",
       "    <tr>\n",
       "      <th>median</th>\n",
       "      <td>140.000000</td>\n",
       "      <td>160.000000</td>\n",
       "    </tr>\n",
       "    <tr>\n",
       "      <th>std</th>\n",
       "      <td>34.249222</td>\n",
       "      <td>58.689538</td>\n",
       "    </tr>\n",
       "  </tbody>\n",
       "</table>\n",
       "</div>"
      ],
      "text/plain": [
       "diabetes                         False       True \n",
       "age                 mean     49.431424   61.704790\n",
       "                    median   48.000000   63.000000\n",
       "                    std      16.871571   13.548421\n",
       "bmi                 mean     28.390095   32.118938\n",
       "                    median   27.320000   30.060000\n",
       "                    std       5.720954    7.537902\n",
       "HbA1c_level         mean      5.395046    6.933148\n",
       "                    median    5.800000    6.600000\n",
       "                    std       0.971706    1.076005\n",
       "blood_glucose_level mean    132.902596  194.387464\n",
       "                    median  140.000000  160.000000\n",
       "                    std      34.249222   58.689538"
      ]
     },
     "execution_count": 8,
     "metadata": {},
     "output_type": "execute_result"
    }
   ],
   "source": [
    "# creating a summary table comapring age, bmi, HbA1c levels, and blood glucose levels between people who have and don't have diabetes\n",
    "summary_1 = clean_df.groupby(\"diabetes\")[[\"age\", \"bmi\", \"HbA1c_level\", \"blood_glucose_level\"]].agg([\"mean\", \"median\", \"std\"])\n",
    "\n",
    "# transposing the dataframe so it is easier to read\n",
    "summary_1.transpose()"
   ]
  },
  {
   "cell_type": "markdown",
   "metadata": {},
   "source": [
    "## Summary Table 2\n",
    "\n",
    "### Diabetics with Hypertension, Heart Diease, Both, or Neither\n",
    "\n",
    "This table looks at combinations of contributing factors for those with diabetes."
   ]
  },
  {
   "cell_type": "code",
   "execution_count": 9,
   "metadata": {},
   "outputs": [
    {
     "data": {
      "text/html": [
       "<div>\n",
       "<style scoped>\n",
       "    .dataframe tbody tr th:only-of-type {\n",
       "        vertical-align: middle;\n",
       "    }\n",
       "\n",
       "    .dataframe tbody tr th {\n",
       "        vertical-align: top;\n",
       "    }\n",
       "\n",
       "    .dataframe thead th {\n",
       "        text-align: right;\n",
       "    }\n",
       "</style>\n",
       "<table border=\"1\" class=\"dataframe\">\n",
       "  <thead>\n",
       "    <tr style=\"text-align: right;\">\n",
       "      <th></th>\n",
       "      <th></th>\n",
       "      <th>diabetes</th>\n",
       "    </tr>\n",
       "    <tr>\n",
       "      <th>heart_disease</th>\n",
       "      <th>hypertension</th>\n",
       "      <th></th>\n",
       "    </tr>\n",
       "  </thead>\n",
       "  <tbody>\n",
       "    <tr>\n",
       "      <th rowspan=\"2\" valign=\"top\">False</th>\n",
       "      <th>False</th>\n",
       "      <td>0.65</td>\n",
       "    </tr>\n",
       "    <tr>\n",
       "      <th>True</th>\n",
       "      <td>0.21</td>\n",
       "    </tr>\n",
       "    <tr>\n",
       "      <th rowspan=\"2\" valign=\"top\">True</th>\n",
       "      <th>False</th>\n",
       "      <td>0.11</td>\n",
       "    </tr>\n",
       "    <tr>\n",
       "      <th>True</th>\n",
       "      <td>0.04</td>\n",
       "    </tr>\n",
       "  </tbody>\n",
       "</table>\n",
       "</div>"
      ],
      "text/plain": [
       "                            diabetes\n",
       "heart_disease hypertension          \n",
       "False         False             0.65\n",
       "              True              0.21\n",
       "True          False             0.11\n",
       "              True              0.04"
      ]
     },
     "execution_count": 9,
     "metadata": {},
     "output_type": "execute_result"
    }
   ],
   "source": [
    "diabetes_df = clean_df[clean_df[\"diabetes\"] == True]\n",
    "\n",
    "summary_2 = diabetes_df.groupby([\"heart_disease\", \"hypertension\"])[[\"diabetes\"]].count()\n",
    "\n",
    "summary_2a = round(summary_2 / diabetes_df[\"diabetes\"].count(), 2)\n",
    "\n",
    "summary_2a"
   ]
  },
  {
   "cell_type": "markdown",
   "metadata": {},
   "source": [
    "#### Based on this summary table:\n",
    "\n",
    "- **65%** of diabetics in this dataset have **no heart disease or hypertension.**\n",
    "\n",
    "- **21%** of diabetics in this dataset have **hypertension**, but **no heart disease.**\n",
    "\n",
    "- **11%** of diabetics in this dataset have **heart disease**, but **no hypertension.**\n",
    "\n",
    "- Only **4%** of diabetics in this dataset have **both hypertension and heart disease.**"
   ]
  },
  {
   "cell_type": "markdown",
   "metadata": {},
   "source": [
    "## Summary Table 3\n",
    "\n",
    "### Diabetics who are at least 45 Years Old, 25+ BMI, Both, or Neither"
   ]
  },
  {
   "cell_type": "code",
   "execution_count": 10,
   "metadata": {},
   "outputs": [
    {
     "data": {
      "text/html": [
       "<div>\n",
       "<style scoped>\n",
       "    .dataframe tbody tr th:only-of-type {\n",
       "        vertical-align: middle;\n",
       "    }\n",
       "\n",
       "    .dataframe tbody tr th {\n",
       "        vertical-align: top;\n",
       "    }\n",
       "\n",
       "    .dataframe thead th {\n",
       "        text-align: right;\n",
       "    }\n",
       "</style>\n",
       "<table border=\"1\" class=\"dataframe\">\n",
       "  <thead>\n",
       "    <tr style=\"text-align: right;\">\n",
       "      <th></th>\n",
       "      <th></th>\n",
       "      <th>diabetes</th>\n",
       "    </tr>\n",
       "    <tr>\n",
       "      <th>bmi</th>\n",
       "      <th>age</th>\n",
       "      <th></th>\n",
       "    </tr>\n",
       "  </thead>\n",
       "  <tbody>\n",
       "    <tr>\n",
       "      <th rowspan=\"2\" valign=\"top\">False</th>\n",
       "      <th>False</th>\n",
       "      <td>0.01</td>\n",
       "    </tr>\n",
       "    <tr>\n",
       "      <th>True</th>\n",
       "      <td>0.09</td>\n",
       "    </tr>\n",
       "    <tr>\n",
       "      <th rowspan=\"2\" valign=\"top\">True</th>\n",
       "      <th>False</th>\n",
       "      <td>0.10</td>\n",
       "    </tr>\n",
       "    <tr>\n",
       "      <th>True</th>\n",
       "      <td>0.80</td>\n",
       "    </tr>\n",
       "  </tbody>\n",
       "</table>\n",
       "</div>"
      ],
      "text/plain": [
       "             diabetes\n",
       "bmi   age            \n",
       "False False      0.01\n",
       "      True       0.09\n",
       "True  False      0.10\n",
       "      True       0.80"
      ]
     },
     "execution_count": 10,
     "metadata": {},
     "output_type": "execute_result"
    }
   ],
   "source": [
    "# 25 and over bmi, 45 and over age\n",
    "\n",
    "summary_3 = diabetes_df.groupby([(diabetes_df[\"bmi\"] >= 25), \n",
    "                                 (diabetes_df[\"age\"] >= 45)])[[\"diabetes\"]].count()\n",
    "\n",
    "summary_3a = round(summary_3 / diabetes_df[\"diabetes\"].count(), 2)\n",
    "\n",
    "summary_3a\n"
   ]
  },
  {
   "cell_type": "markdown",
   "metadata": {},
   "source": [
    "#### Based on this summary table:\n",
    "\n",
    "- **80%** of diabetics in this dataset are **45+** and have a **BMI of 25+.**\n",
    "\n",
    "- **10%** of diabetics in this dataset are **under 45** with a **BMI of 25+.**\n",
    "\n",
    "- **9%** of diabetics in this dataset are **45+**, but have a **BMI under 25.**\n",
    "\n",
    "- Just **1%** of diabetics are **under 45** with a **BMI under 25.**"
   ]
  },
  {
   "cell_type": "markdown",
   "metadata": {},
   "source": [
    "## Summary Table 4\n",
    "\n",
    "### Diabetic Patients by Age Group"
   ]
  },
  {
   "cell_type": "code",
   "execution_count": 11,
   "metadata": {},
   "outputs": [
    {
     "name": "stdout",
     "output_type": "stream",
     "text": [
      "Percentage for each age group:\n"
     ]
    },
    {
     "data": {
      "text/html": [
       "<div>\n",
       "<style scoped>\n",
       "    .dataframe tbody tr th:only-of-type {\n",
       "        vertical-align: middle;\n",
       "    }\n",
       "\n",
       "    .dataframe tbody tr th {\n",
       "        vertical-align: top;\n",
       "    }\n",
       "\n",
       "    .dataframe thead th {\n",
       "        text-align: right;\n",
       "    }\n",
       "</style>\n",
       "<table border=\"1\" class=\"dataframe\">\n",
       "  <thead>\n",
       "    <tr style=\"text-align: right;\">\n",
       "      <th></th>\n",
       "      <th>count</th>\n",
       "    </tr>\n",
       "    <tr>\n",
       "      <th>age</th>\n",
       "      <th></th>\n",
       "    </tr>\n",
       "  </thead>\n",
       "  <tbody>\n",
       "    <tr>\n",
       "      <th>&gt;=45</th>\n",
       "      <td>88.34</td>\n",
       "    </tr>\n",
       "    <tr>\n",
       "      <th>35-44</th>\n",
       "      <td>7.84</td>\n",
       "    </tr>\n",
       "    <tr>\n",
       "      <th>25-34</th>\n",
       "      <td>3.36</td>\n",
       "    </tr>\n",
       "    <tr>\n",
       "      <th>&lt;=24</th>\n",
       "      <td>0.47</td>\n",
       "    </tr>\n",
       "  </tbody>\n",
       "</table>\n",
       "</div>"
      ],
      "text/plain": [
       "       count\n",
       "age         \n",
       ">=45   88.34\n",
       "35-44   7.84\n",
       "25-34   3.36\n",
       "<=24    0.47"
      ]
     },
     "execution_count": 11,
     "metadata": {},
     "output_type": "execute_result"
    }
   ],
   "source": [
    "# Age category percentages:\n",
    "def get_age_group(age):\n",
    "   age = int(age)\n",
    "   if age <= 24:\n",
    "       return \"<=24\"\n",
    "   elif age <= 34:\n",
    "       return \"25-34\"\n",
    "   elif age <= 44:\n",
    "       return \"35-44\"\n",
    "   else:\n",
    "       return \">=45\"\n",
    "age_groups = diabetes_df['age'].apply(get_age_group)\n",
    "\n",
    "# Display the percentage for each age group\n",
    "age_group_counts = age_groups.value_counts()\n",
    "print(\"Percentage for each age group:\")\n",
    "age_age_groups = round(((age_group_counts)/ len(diabetes_df) * 100), 2)\n",
    "pd.DataFrame(age_age_groups)\n",
    "\n",
    "# Round these numbers by 2!"
   ]
  },
  {
   "cell_type": "markdown",
   "metadata": {},
   "source": [
    "### Based on this summary table:\n",
    "\n",
    "The vast majority of patients with diabetes are **over the age of 45.**"
   ]
  },
  {
   "cell_type": "markdown",
   "metadata": {},
   "source": [
    "## Summary Table 5\n",
    "\n",
    "### Diabetic Patients by BMI Group"
   ]
  },
  {
   "cell_type": "code",
   "execution_count": 12,
   "metadata": {},
   "outputs": [
    {
     "name": "stdout",
     "output_type": "stream",
     "text": [
      "Perecentage for each BMI group:\n"
     ]
    },
    {
     "data": {
      "text/html": [
       "<div>\n",
       "<style scoped>\n",
       "    .dataframe tbody tr th:only-of-type {\n",
       "        vertical-align: middle;\n",
       "    }\n",
       "\n",
       "    .dataframe tbody tr th {\n",
       "        vertical-align: top;\n",
       "    }\n",
       "\n",
       "    .dataframe thead th {\n",
       "        text-align: right;\n",
       "    }\n",
       "</style>\n",
       "<table border=\"1\" class=\"dataframe\">\n",
       "  <thead>\n",
       "    <tr style=\"text-align: right;\">\n",
       "      <th></th>\n",
       "      <th>count</th>\n",
       "    </tr>\n",
       "    <tr>\n",
       "      <th>bmi</th>\n",
       "      <th></th>\n",
       "    </tr>\n",
       "  </thead>\n",
       "  <tbody>\n",
       "    <tr>\n",
       "      <th>obese</th>\n",
       "      <td>50.28</td>\n",
       "    </tr>\n",
       "    <tr>\n",
       "      <th>overweight</th>\n",
       "      <td>39.71</td>\n",
       "    </tr>\n",
       "    <tr>\n",
       "      <th>healthy_weight</th>\n",
       "      <td>9.38</td>\n",
       "    </tr>\n",
       "    <tr>\n",
       "      <th>underweight</th>\n",
       "      <td>0.63</td>\n",
       "    </tr>\n",
       "  </tbody>\n",
       "</table>\n",
       "</div>"
      ],
      "text/plain": [
       "                count\n",
       "bmi                  \n",
       "obese           50.28\n",
       "overweight      39.71\n",
       "healthy_weight   9.38\n",
       "underweight      0.63"
      ]
     },
     "execution_count": 12,
     "metadata": {},
     "output_type": "execute_result"
    }
   ],
   "source": [
    "def get_bmi_group(bmi):\n",
    "    bmi = int(bmi)\n",
    "    if bmi <= 18.5:\n",
    "        return \"underweight\"\n",
    "    elif bmi <= 24.9:\n",
    "        return \"healthy_weight\"\n",
    "    elif bmi <= 29.9:\n",
    "        return \"overweight\"\n",
    "    else:\n",
    "        return \"obese\"\n",
    "bmi_groups = diabetes_df['bmi'].apply(get_bmi_group)\n",
    "# Display the percenatage for each BMI group\n",
    "bmi_group_counts = bmi_groups.value_counts()\n",
    "print(\"Perecentage for each BMI group:\")\n",
    "bmi_age_groups = round(((bmi_group_counts)/ len(diabetes_df) * 100), 2)\n",
    "pd.DataFrame(bmi_age_groups)\n",
    "\n",
    "# Round these numbers by 2!"
   ]
  },
  {
   "cell_type": "markdown",
   "metadata": {},
   "source": [
    "### Based on this summary table:\n",
    "\n",
    "Most patients with diabetes ahve a BMI that is either **overweight** or **obese**."
   ]
  },
  {
   "cell_type": "markdown",
   "metadata": {},
   "source": [
    "## Summary Table 5\n",
    "\n",
    "### Mean values for table attributes by gender"
   ]
  },
  {
   "cell_type": "code",
   "execution_count": 13,
   "metadata": {},
   "outputs": [
    {
     "name": "stderr",
     "output_type": "stream",
     "text": [
      "C:\\Users\\marsh\\AppData\\Local\\Temp\\ipykernel_30984\\3948814313.py:4: FutureWarning: Series.__getitem__ treating keys as positions is deprecated. In a future version, integer keys will always be treated as labels (consistent with DataFrame behavior). To access a value by position, use `ser.iloc[pos]`\n",
      "  summary_5[\"Difference\"] = [summary_5[\"Female\"][x] - summary_5[\"Male\"][x] for x in range(len(summary_5[\"Female\"]))]\n"
     ]
    },
    {
     "data": {
      "text/html": [
       "<div>\n",
       "<style scoped>\n",
       "    .dataframe tbody tr th:only-of-type {\n",
       "        vertical-align: middle;\n",
       "    }\n",
       "\n",
       "    .dataframe tbody tr th {\n",
       "        vertical-align: top;\n",
       "    }\n",
       "\n",
       "    .dataframe thead th {\n",
       "        text-align: right;\n",
       "    }\n",
       "</style>\n",
       "<table border=\"1\" class=\"dataframe\">\n",
       "  <thead>\n",
       "    <tr style=\"text-align: right;\">\n",
       "      <th>gender</th>\n",
       "      <th>Female</th>\n",
       "      <th>Male</th>\n",
       "      <th>Difference</th>\n",
       "    </tr>\n",
       "  </thead>\n",
       "  <tbody>\n",
       "    <tr>\n",
       "      <th>age</th>\n",
       "      <td>61.806536</td>\n",
       "      <td>61.590164</td>\n",
       "      <td>0.216372</td>\n",
       "    </tr>\n",
       "    <tr>\n",
       "      <th>hypertension</th>\n",
       "      <td>0.254294</td>\n",
       "      <td>0.243752</td>\n",
       "      <td>0.010542</td>\n",
       "    </tr>\n",
       "    <tr>\n",
       "      <th>heart_disease</th>\n",
       "      <td>0.118082</td>\n",
       "      <td>0.178984</td>\n",
       "      <td>-0.060902</td>\n",
       "    </tr>\n",
       "    <tr>\n",
       "      <th>bmi</th>\n",
       "      <td>32.771854</td>\n",
       "      <td>31.383378</td>\n",
       "      <td>1.388475</td>\n",
       "    </tr>\n",
       "    <tr>\n",
       "      <th>HbA1c_level</th>\n",
       "      <td>6.943368</td>\n",
       "      <td>6.921634</td>\n",
       "      <td>0.021734</td>\n",
       "    </tr>\n",
       "    <tr>\n",
       "      <th>blood_glucose_level</th>\n",
       "      <td>194.156966</td>\n",
       "      <td>194.647138</td>\n",
       "      <td>-0.490172</td>\n",
       "    </tr>\n",
       "    <tr>\n",
       "      <th>diabetes</th>\n",
       "      <td>1.000000</td>\n",
       "      <td>1.000000</td>\n",
       "      <td>0.000000</td>\n",
       "    </tr>\n",
       "  </tbody>\n",
       "</table>\n",
       "</div>"
      ],
      "text/plain": [
       "gender                   Female        Male  Difference\n",
       "age                   61.806536   61.590164    0.216372\n",
       "hypertension           0.254294    0.243752    0.010542\n",
       "heart_disease          0.118082    0.178984   -0.060902\n",
       "bmi                   32.771854   31.383378    1.388475\n",
       "HbA1c_level            6.943368    6.921634    0.021734\n",
       "blood_glucose_level  194.156966  194.647138   -0.490172\n",
       "diabetes               1.000000    1.000000    0.000000"
      ]
     },
     "execution_count": 13,
     "metadata": {},
     "output_type": "execute_result"
    }
   ],
   "source": [
    "# diabetes_df[diabetes_df[\"gender\"] == \"Female\"]\n",
    "summary_5 = diabetes_df.groupby(\"gender\").mean(\"age\")\n",
    "summary_5 = summary_5.transpose()\n",
    "summary_5[\"Difference\"] = [summary_5[\"Female\"][x] - summary_5[\"Male\"][x] for x in range(len(summary_5[\"Female\"]))]\n",
    "summary_5"
   ]
  },
  {
   "cell_type": "markdown",
   "metadata": {},
   "source": [
    "### Based on this summary table:\n",
    "\n",
    "According to the data, there is little to no difference in these attributes between adult men and women."
   ]
  },
  {
   "cell_type": "markdown",
   "metadata": {},
   "source": [
    "# Visualizations"
   ]
  },
  {
   "cell_type": "markdown",
   "metadata": {},
   "source": [
    "### 1. Diabetic Patients by BMI and Age\n",
    "\n",
    "The main takeaway from this visualization is that approximately **80%** of diabetic adults are both 45+ and have a BMI of **at least 25**."
   ]
  },
  {
   "cell_type": "code",
   "execution_count": 14,
   "metadata": {},
   "outputs": [
    {
     "data": {
      "image/png": "[encoded data removed]",
      "text/plain": [
       "<Figure size 640x480 with 1 Axes>"
      ]
     },
     "metadata": {},
     "output_type": "display_data"
    }
   ],
   "source": [
    "yaxis = [x*100 for x in summary_3a[\"diabetes\"]]\n",
    "plt.style.use('seaborn-v0_8-darkgrid')\n",
    "plt.bar([0,1,2,3], yaxis, color=[\"blue\", \"blue\", \"red\", \"red\"])\n",
    "plt.xticks([0,1,2,3], [\"BMI < 25, Age < 45\", \"BMI < 25, Age >= 45\", \"BMI >= 25, Age < 45\", \"BMI >= 25, Age >= 45\"], rotation=75)\n",
    "plt.ylim(0, 100)\n",
    "plt.ylabel(\"Percentage of Diabetic Patients\")\n",
    "plt.title(\"Percentage of Diabetic Patients by BMI and Age\")\n",
    "plt.show()"
   ]
  },
  {
   "cell_type": "markdown",
   "metadata": {},
   "source": [
    "### 2. Diabetic Patients by Heart Disease and Hypertension\n",
    "\n",
    "Surprisingly, most diabetic patients in this data did not have hypertension or heart disease."
   ]
  },
  {
   "cell_type": "code",
   "execution_count": 15,
   "metadata": {},
   "outputs": [
    {
     "data": {
      "image/png": "[encoded data removed]",
      "text/plain": [
       "<Figure size 640x480 with 1 Axes>"
      ]
     },
     "metadata": {},
     "output_type": "display_data"
    }
   ],
   "source": [
    "yaxis1 = [x*100 for x in summary_2a[\"diabetes\"]]\n",
    "plt.bar([0,1,2,3], yaxis1)\n",
    "plt.xticks([0,1,2,3], [\"No Heart Disease, No Hypertension\", \"No Heart Disease, Hypertension\", \"Heart Disease, No Hypertension\", \"Heart Disease, Hypertension\"], rotation=75)\n",
    "plt.ylim(0, 100)\n",
    "plt.ylabel(\"Percentage of Diabetic Patients\")\n",
    "plt.title(\"Percentage of Diabetic Patients by Heart Disease and Hypertension\")  \n",
    "plt.show()"
   ]
  },
  {
   "cell_type": "markdown",
   "metadata": {},
   "source": [
    "### 3. Diabetes by Age and BMI\n",
    "\n",
    "This scatterplot shows the relationship between age and BMI among diabetic patients. A main cluster forms after the age of 45, between BMI levels of 25 and 45."
   ]
  },
  {
   "cell_type": "code",
   "execution_count": 16,
   "metadata": {},
   "outputs": [
    {
     "data": {
      "text/plain": [
       "<Axes: title={'center': 'Diabetes by Age and BMI'}, xlabel='age', ylabel='bmi'>"
      ]
     },
     "execution_count": 16,
     "metadata": {},
     "output_type": "execute_result"
    },
    {
     "data": {
      "image/png": "[encoded data removed]",
      "text/plain": [
       "<Figure size 640x480 with 1 Axes>"
      ]
     },
     "metadata": {},
     "output_type": "display_data"
    }
   ],
   "source": [
    "diabetes_df.plot.scatter(x='age', y='bmi', title= 'Diabetes by Age and BMI')"
   ]
  },
  {
   "cell_type": "markdown",
   "metadata": {},
   "source": [
    "### 4. Age by Diabetes Status\n",
    "\n",
    "This boxplot compares age distributions between patients with and without diabetes. The mean age is higher for diabetic patients, 61.7 years, compared to patients without diabetes, 49.43 years."
   ]
  },
  {
   "cell_type": "code",
   "execution_count": 17,
   "metadata": {},
   "outputs": [],
   "source": [
    "def iqr(list, label):\n",
    "    quartiles = list.quantile([.25,.5,.75])\n",
    "    lowerq = quartiles[0.25]\n",
    "    upperq = quartiles[0.75]\n",
    "    iqr = upperq-lowerq\n",
    "\n",
    "    print(f\"Quartiles and outliers for {label}:\")\n",
    "    print()\n",
    "    print(f\"Lower quartile: {lowerq}\")\n",
    "    print(f\"upper quartile: {upperq}\")\n",
    "    print(f\"Interquartile Range: {round(iqr, 2)}\")\n",
    "    print(f\"Median: {quartiles[0.5]} \")\n",
    "\n",
    "    lower_bound = lowerq - (1.5*iqr)\n",
    "    upper_bound = upperq + (1.5*iqr)\n",
    "    print(f\"Values below {round(lower_bound, 2)} could be outliers.\")\n",
    "    print(f\"Values above {round(upper_bound, 2)} could be outliers.\")\n",
    "    print()\n",
    "    print()"
   ]
  },
  {
   "cell_type": "code",
   "execution_count": 18,
   "metadata": {},
   "outputs": [
    {
     "name": "stdout",
     "output_type": "stream",
     "text": [
      "Quartiles and outliers for Age - No Diabetes:\n",
      "\n",
      "Lower quartile: 35.0\n",
      "upper quartile: 62.0\n",
      "Interquartile Range: 27.0\n",
      "Median: 48.0 \n",
      "Values below -5.5 could be outliers.\n",
      "Values above 102.5 could be outliers.\n",
      "\n",
      "\n",
      "Quartiles and outliers for Age - Diabetes:\n",
      "\n",
      "Lower quartile: 53.0\n",
      "upper quartile: 73.0\n",
      "Interquartile Range: 20.0\n",
      "Median: 63.0 \n",
      "Values below 23.0 could be outliers.\n",
      "Values above 103.0 could be outliers.\n",
      "\n",
      "\n"
     ]
    },
    {
     "data": {
      "image/png": "[encoded data removed]",
      "text/plain": [
       "<Figure size 640x480 with 1 Axes>"
      ]
     },
     "metadata": {},
     "output_type": "display_data"
    }
   ],
   "source": [
    "plot_3 = clean_df.boxplot(\"age\", \"diabetes\").set_title(\"Age by Diabetes Status\")\n",
    "plt.ylabel(\"Age\")\n",
    "plt.xlabel(\"Diabetes Status\")\n",
    "\n",
    "iqr(clean_df[clean_df[\"diabetes\"] == False][\"age\"], \"Age - No Diabetes\")\n",
    "iqr(diabetes_df[\"age\"], \"Age - Diabetes\")"
   ]
  },
  {
   "cell_type": "markdown",
   "metadata": {},
   "source": [
    "### 5. BMI by Diabetes Status\n",
    "\n",
    "The trends in this visualization are not as clear as in the previous, but the difference between the distributions can still be seen. The mean BMI for diabetic patients, 32.12 kg/m², is higher than the BMI of patients without diabetes, 28.39 kg/m²."
   ]
  },
  {
   "cell_type": "code",
   "execution_count": 19,
   "metadata": {},
   "outputs": [
    {
     "name": "stdout",
     "output_type": "stream",
     "text": [
      "Quartiles and outliers for BMI - No Diabetes:\n",
      "\n",
      "Lower quartile: 25.6\n",
      "upper quartile: 30.15\n",
      "Interquartile Range: 4.55\n",
      "Median: 27.32 \n",
      "Values below 18.78 could be outliers.\n",
      "Values above 36.97 could be outliers.\n",
      "\n",
      "\n",
      "Quartiles and outliers for BMI - Diabetes:\n",
      "\n",
      "Lower quartile: 27.32\n",
      "upper quartile: 36.01\n",
      "Interquartile Range: 8.69\n",
      "Median: 30.06 \n",
      "Values below 14.29 could be outliers.\n",
      "Values above 49.04 could be outliers.\n",
      "\n",
      "\n"
     ]
    },
    {
     "data": {
      "image/png": "[encoded data removed]",
      "text/plain": [
       "<Figure size 640x480 with 1 Axes>"
      ]
     },
     "metadata": {},
     "output_type": "display_data"
    }
   ],
   "source": [
    "plot_4 = clean_df.boxplot(\"bmi\", \"diabetes\").set_title(\"BMI by Diabetes Status\")\n",
    "plt.ylabel(\"BMI\")\n",
    "plt.xlabel(\"Diabetes Status\")\n",
    "\n",
    "iqr(clean_df[clean_df[\"diabetes\"] == False][\"bmi\"], \"BMI - No Diabetes\")\n",
    "iqr(diabetes_df[\"bmi\"], \"BMI - Diabetes\")"
   ]
  },
  {
   "cell_type": "markdown",
   "metadata": {},
   "source": [
    "### 6. HbA1c Level by Diabetes Status\n",
    "\n",
    "HbA1c Level is typically the main factor in determining whether one has diabetes, so the clear contrast in this graph reflects that. It's not the case for all of the patients in the dataset, but it applies to most of them. 6.9% was the average HbA1c level for patients with diabetes, while the average HbA1c level for patients without diabetes was 5.4%."
   ]
  },
  {
   "cell_type": "code",
   "execution_count": 20,
   "metadata": {},
   "outputs": [
    {
     "name": "stdout",
     "output_type": "stream",
     "text": [
      "Quartiles and outliers for BMI - No Diabetes:\n",
      "\n",
      "Lower quartile: 25.6\n",
      "upper quartile: 30.15\n",
      "Interquartile Range: 4.55\n",
      "Median: 27.32 \n",
      "Values below 18.78 could be outliers.\n",
      "Values above 36.97 could be outliers.\n",
      "\n",
      "\n",
      "Quartiles and outliers for BMI - Diabetes:\n",
      "\n",
      "Lower quartile: 27.32\n",
      "upper quartile: 36.01\n",
      "Interquartile Range: 8.69\n",
      "Median: 30.06 \n",
      "Values below 14.29 could be outliers.\n",
      "Values above 49.04 could be outliers.\n",
      "\n",
      "\n"
     ]
    },
    {
     "data": {
      "image/png": "[encoded data removed]",
      "text/plain": [
       "<Figure size 640x480 with 1 Axes>"
      ]
     },
     "metadata": {},
     "output_type": "display_data"
    }
   ],
   "source": [
    "plot_5 = clean_df.boxplot(\"HbA1c_level\", \"diabetes\").set_title(\"HbA1c Level by Diabetes Status\")\n",
    "plt.ylabel(\"HbA1c Level\")\n",
    "plt.xlabel(\"Diabetes Status\")\n",
    "\n",
    "iqr(clean_df[clean_df[\"diabetes\"] == False][\"bmi\"], \"BMI - No Diabetes\")\n",
    "iqr(diabetes_df[\"bmi\"], \"BMI - Diabetes\")"
   ]
  },
  {
   "cell_type": "markdown",
   "metadata": {},
   "source": [
    "### 7. Blood Glucose Level by Diabetes Status\n",
    "\n",
    "Blood glucose level is another closely related factor to a patient's diabetes status. The average blood glucose level for patients with diabetes was 194.4mg/dL, compared to patients without diabetes, 132 mg/dL."
   ]
  },
  {
   "cell_type": "code",
   "execution_count": 21,
   "metadata": {},
   "outputs": [
    {
     "name": "stdout",
     "output_type": "stream",
     "text": [
      "Quartiles and outliers for HbA1c Level - No Diabetes:\n",
      "\n",
      "Lower quartile: 4.8\n",
      "upper quartile: 6.2\n",
      "Interquartile Range: 1.4\n",
      "Median: 5.8 \n",
      "Values below 2.7 could be outliers.\n",
      "Values above 8.3 could be outliers.\n",
      "\n",
      "\n",
      "Quartiles and outliers for HbA1c Level - Diabetes:\n",
      "\n",
      "Lower quartile: 6.1\n",
      "upper quartile: 7.5\n",
      "Interquartile Range: 1.4\n",
      "Median: 6.6 \n",
      "Values below 4.0 could be outliers.\n",
      "Values above 9.6 could be outliers.\n",
      "\n",
      "\n"
     ]
    },
    {
     "data": {
      "image/png": "[encoded data removed]",
      "text/plain": [
       "<Figure size 640x480 with 1 Axes>"
      ]
     },
     "metadata": {},
     "output_type": "display_data"
    }
   ],
   "source": [
    "plot_6 = clean_df.boxplot(\"blood_glucose_level\", \"diabetes\").set_title(\"Blood Glucose Level by Diabetes Status\")\n",
    "plt.ylabel(\"Blood Glucose Level\")\n",
    "plt.xlabel(\"Diabetes Status\")\n",
    "\n",
    "iqr(clean_df[clean_df[\"diabetes\"] == False][\"HbA1c_level\"], \"HbA1c Level - No Diabetes\")\n",
    "iqr(diabetes_df[\"HbA1c_level\"], \"HbA1c Level - Diabetes\")"
   ]
  },
  {
   "cell_type": "markdown",
   "metadata": {},
   "source": [
    "### Summary\n",
    "\n",
    "This is the extent to which we conducted our analysis. Further information can be found in the README file in the repository, where we elaborate on the findings of the data and discuss limitations, as well as possible next steps."
   ]
  }
 ],
 "metadata": {
  "kernelspec": {
   "display_name": "dev",
   "language": "python",
   "name": "python3"
  },
  "language_info": {
   "codemirror_mode": {
    "name": "ipython",
    "version": 3
   },
   "file_extension": ".py",
   "mimetype": "text/x-python",
   "name": "python",
   "nbconvert_exporter": "python",
   "pygments_lexer": "ipython3",
   "version": "3.10.13"
  }
 },
 "nbformat": 4,
 "nbformat_minor": 2
}
